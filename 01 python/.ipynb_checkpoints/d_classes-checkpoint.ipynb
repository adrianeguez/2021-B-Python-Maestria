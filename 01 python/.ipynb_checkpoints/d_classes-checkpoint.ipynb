{
 "cells": [
  {
   "cell_type": "code",
   "execution_count": 1,
   "metadata": {},
   "outputs": [],
   "source": [
    "# d_classes"
   ]
  },
  {
   "cell_type": "code",
   "execution_count": 4,
   "metadata": {},
   "outputs": [
    {
     "name": "stdout",
     "output_type": "stream",
     "text": [
      "EPN\n",
      "Ecuador\n",
      "1234\n",
      "ESPE\n",
      "Ecuador\n",
      "1234\n",
      "SALFORD\n",
      "United Kingdom\n",
      "1234\n"
     ]
    }
   ],
   "source": [
    "class UniversidadEcuatoriana():\n",
    "    nombre = '' # Atributo Publico\n",
    "    pais = 'Ecuador' # Atributo Publico\n",
    "    __codigo_escondido = '1234' #Atributo Privado\n",
    "    \n",
    "    def __init__(self, nombreParametro = 'EPN', paisParametros = 'Ecuador'): \n",
    "        # self = this / __init__ = constructor\n",
    "        # print(self.nombre) ''\n",
    "        self.nombre = nombreParametro\n",
    "        self.pais = paisParametros\n",
    "        # print(self.nombre) 'EPN'\n",
    "    \n",
    "    def imprimir(self):\n",
    "        print(self.nombre)\n",
    "        print(self.pais)\n",
    "        print(self.__codigo_escondido)\n",
    "\n",
    "epn = UniversidadEcuatoriana() # EPN\n",
    "epn.imprimir()\n",
    "\n",
    "espe = UniversidadEcuatoriana(\"ESPE\")\n",
    "espe.imprimir()\n",
    "\n",
    "salford = UniversidadEcuatoriana(\"SALFORD\")\n",
    "salford.pais = \"United Kingdom\"\n",
    "salford.imprimir()\n"
   ]
  },
  {
   "cell_type": "code",
   "execution_count": null,
   "metadata": {},
   "outputs": [],
   "source": []
  }
 ],
 "metadata": {
  "kernelspec": {
   "display_name": "Python 3",
   "language": "python",
   "name": "python3"
  },
  "language_info": {
   "codemirror_mode": {
    "name": "ipython",
    "version": 3
   },
   "file_extension": ".py",
   "mimetype": "text/x-python",
   "name": "python",
   "nbconvert_exporter": "python",
   "pygments_lexer": "ipython3",
   "version": "3.7.6"
  }
 },
 "nbformat": 4,
 "nbformat_minor": 4
}
